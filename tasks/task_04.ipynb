{
 "cells": [
  {
   "cell_type": "markdown",
   "id": "bef6e94e",
   "metadata": {},
   "source": [
    "Quantos passageiros têm idade desconhecida (missing)?"
   ]
  },
  {
   "cell_type": "code",
   "execution_count": 22,
   "id": "e4e80784",
   "metadata": {},
   "outputs": [
    {
     "name": "stdout",
     "output_type": "stream",
     "text": [
      "A quantidade de passageiros com idade desconhecida é 177.\n"
     ]
    }
   ],
   "source": [
    "import pandas as pd\n",
    "df = pd.read_csv('../data/titanic_dataset.csv')\n",
    "df['Age'] = df['Age'].fillna(0)\n",
    "qtd_passageiros_idade_desconhecida = df[df['Age'] == 0]['PassengerId'].count()\n",
    "print(f'A quantidade de passageiros com idade desconhecida é {qtd_passageiros_idade_desconhecida}.')"
   ]
  }
 ],
 "metadata": {
  "kernelspec": {
   "display_name": "venv",
   "language": "python",
   "name": "python3"
  },
  "language_info": {
   "codemirror_mode": {
    "name": "ipython",
    "version": 3
   },
   "file_extension": ".py",
   "mimetype": "text/x-python",
   "name": "python",
   "nbconvert_exporter": "python",
   "pygments_lexer": "ipython3",
   "version": "3.10.11"
  }
 },
 "nbformat": 4,
 "nbformat_minor": 5
}
