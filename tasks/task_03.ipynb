{
 "cells": [
  {
   "cell_type": "markdown",
   "id": "0c9bc66e",
   "metadata": {},
   "source": [
    "Qual a média, mediana e desvio padrão da idade dos passageiros?"
   ]
  },
  {
   "cell_type": "code",
   "execution_count": 8,
   "id": "0d608391",
   "metadata": {},
   "outputs": [
    {
     "name": "stdout",
     "output_type": "stream",
     "text": [
      "A média é 29.7, a mediana é 28.0 e o desvio padrão é 14.53\n"
     ]
    }
   ],
   "source": [
    "import pandas as pd\n",
    "df = pd.read_csv('../data/titanic_dataset.csv')\n",
    "media = df['Age'].mean().round(2)\n",
    "mediana = df['Age'].median().round(2)\n",
    "desvio_padrao = df['Age'].std().round(2)\n",
    "print(f'A média é {media}, a mediana é {mediana} e o desvio padrão é {desvio_padrao}')"
   ]
  }
 ],
 "metadata": {
  "kernelspec": {
   "display_name": "venv",
   "language": "python",
   "name": "python3"
  },
  "language_info": {
   "codemirror_mode": {
    "name": "ipython",
    "version": 3
   },
   "file_extension": ".py",
   "mimetype": "text/x-python",
   "name": "python",
   "nbconvert_exporter": "python",
   "pygments_lexer": "ipython3",
   "version": "3.10.11"
  }
 },
 "nbformat": 4,
 "nbformat_minor": 5
}
