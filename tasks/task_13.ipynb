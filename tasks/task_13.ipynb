{
 "cells": [
  {
   "cell_type": "markdown",
   "id": "79382d91",
   "metadata": {},
   "source": [
    "Qual a taxa de sobrevivência entre passageiros que viajaram sozinhos vs. com familiares?"
   ]
  },
  {
   "cell_type": "code",
   "execution_count": 14,
   "id": "32f1b16c",
   "metadata": {},
   "outputs": [
    {
     "name": "stdout",
     "output_type": "stream",
     "text": [
      "A taxa de sobrevivência entre passageiros que vajavam sozinhos é 30.0%\n",
      "E a taxa de sobrevivência entre os passageiros que viajavam acompanhados é de 51.0%\n"
     ]
    }
   ],
   "source": [
    "import pandas as pd\n",
    "df = pd.read_csv('../data/titanic_dataset.csv')\n",
    "taxa_sobrevivencia_sozinho = round((df[df['Parch'] + df['SibSp'] == 0]['Survived'].sum()) / (df[df['Parch'] + df['SibSp'] == 0]['Survived'].count()), 2)\n",
    "taxa_sobrevivencia_familiar = round((df[df['Parch'] + df['SibSp'] > 0]['Survived'].sum()) / (df[df['Parch'] + df['SibSp'] > 0]['Survived'].count()), 2)\n",
    "print(f'A taxa de sobrevivência entre passageiros que vajavam sozinhos é {taxa_sobrevivencia_sozinho * 100}%')\n",
    "print(f'E a taxa de sobrevivência entre os passageiros que viajavam acompanhados é de {taxa_sobrevivencia_familiar * 100}%')"
   ]
  }
 ],
 "metadata": {
  "kernelspec": {
   "display_name": "venv",
   "language": "python",
   "name": "python3"
  },
  "language_info": {
   "codemirror_mode": {
    "name": "ipython",
    "version": 3
   },
   "file_extension": ".py",
   "mimetype": "text/x-python",
   "name": "python",
   "nbconvert_exporter": "python",
   "pygments_lexer": "ipython3",
   "version": "3.10.11"
  }
 },
 "nbformat": 4,
 "nbformat_minor": 5
}
