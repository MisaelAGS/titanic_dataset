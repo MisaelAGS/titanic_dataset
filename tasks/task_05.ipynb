{
 "cells": [
  {
   "cell_type": "markdown",
   "id": "294b1ef1",
   "metadata": {},
   "source": [
    "Qual a taxa de sobrevivência por gênero (Sex)?"
   ]
  },
  {
   "cell_type": "code",
   "execution_count": 19,
   "id": "5d9c1144",
   "metadata": {},
   "outputs": [
    {
     "data": {
      "text/html": [
       "<div>\n",
       "<style scoped>\n",
       "    .dataframe tbody tr th:only-of-type {\n",
       "        vertical-align: middle;\n",
       "    }\n",
       "\n",
       "    .dataframe tbody tr th {\n",
       "        vertical-align: top;\n",
       "    }\n",
       "\n",
       "    .dataframe thead th {\n",
       "        text-align: right;\n",
       "    }\n",
       "</style>\n",
       "<table border=\"1\" class=\"dataframe\">\n",
       "  <thead>\n",
       "    <tr style=\"text-align: right;\">\n",
       "      <th></th>\n",
       "      <th>sexo</th>\n",
       "      <th>qtd_passageiros_sobreviventes</th>\n",
       "      <th>qtd_total_passageiros</th>\n",
       "      <th>taxa_sobrevivencia</th>\n",
       "    </tr>\n",
       "  </thead>\n",
       "  <tbody>\n",
       "    <tr>\n",
       "      <th>0</th>\n",
       "      <td>female</td>\n",
       "      <td>233</td>\n",
       "      <td>314</td>\n",
       "      <td>74.203822</td>\n",
       "    </tr>\n",
       "    <tr>\n",
       "      <th>1</th>\n",
       "      <td>male</td>\n",
       "      <td>109</td>\n",
       "      <td>577</td>\n",
       "      <td>18.890815</td>\n",
       "    </tr>\n",
       "  </tbody>\n",
       "</table>\n",
       "</div>"
      ],
      "text/plain": [
       "     sexo  qtd_passageiros_sobreviventes  qtd_total_passageiros  \\\n",
       "0  female                            233                    314   \n",
       "1    male                            109                    577   \n",
       "\n",
       "   taxa_sobrevivencia  \n",
       "0           74.203822  \n",
       "1           18.890815  "
      ]
     },
     "execution_count": 19,
     "metadata": {},
     "output_type": "execute_result"
    }
   ],
   "source": [
    "import pandas as pd\n",
    "df = pd.read_csv('../data/titanic_dataset.csv')\n",
    "summary = df.groupby(by='Sex', as_index=False).agg({\n",
    "    'Survived': 'sum',\n",
    "    'PassengerId': 'count'\n",
    "}).rename(columns={\n",
    "    'Sex': 'sexo',\n",
    "    'Survived': 'qtd_passageiros_sobreviventes',\n",
    "    'PassengerId': 'qtd_total_passageiros' \n",
    "})\n",
    "summary['taxa_sobrevivencia'] = summary['qtd_passageiros_sobreviventes'] / summary['qtd_total_passageiros'] * 100\n",
    "summary"
   ]
  }
 ],
 "metadata": {
  "kernelspec": {
   "display_name": "venv",
   "language": "python",
   "name": "python3"
  },
  "language_info": {
   "codemirror_mode": {
    "name": "ipython",
    "version": 3
   },
   "file_extension": ".py",
   "mimetype": "text/x-python",
   "name": "python",
   "nbconvert_exporter": "python",
   "pygments_lexer": "ipython3",
   "version": "3.10.11"
  }
 },
 "nbformat": 4,
 "nbformat_minor": 5
}
