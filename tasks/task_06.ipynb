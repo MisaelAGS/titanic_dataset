{
 "cells": [
  {
   "cell_type": "markdown",
   "id": "ccb43f61",
   "metadata": {},
   "source": [
    "Qual a taxa de sobrevivência por classe (Pclass)?"
   ]
  },
  {
   "cell_type": "code",
   "execution_count": 7,
   "id": "4d2ae7df",
   "metadata": {},
   "outputs": [
    {
     "data": {
      "text/html": [
       "<div>\n",
       "<style scoped>\n",
       "    .dataframe tbody tr th:only-of-type {\n",
       "        vertical-align: middle;\n",
       "    }\n",
       "\n",
       "    .dataframe tbody tr th {\n",
       "        vertical-align: top;\n",
       "    }\n",
       "\n",
       "    .dataframe thead th {\n",
       "        text-align: right;\n",
       "    }\n",
       "</style>\n",
       "<table border=\"1\" class=\"dataframe\">\n",
       "  <thead>\n",
       "    <tr style=\"text-align: right;\">\n",
       "      <th></th>\n",
       "      <th>classe</th>\n",
       "      <th>qtd_passageiros_sobreviventes</th>\n",
       "      <th>qtd_passageiros_total</th>\n",
       "      <th>taxa_sobrevivencia</th>\n",
       "    </tr>\n",
       "  </thead>\n",
       "  <tbody>\n",
       "    <tr>\n",
       "      <th>0</th>\n",
       "      <td>1</td>\n",
       "      <td>136</td>\n",
       "      <td>216</td>\n",
       "      <td>62.96</td>\n",
       "    </tr>\n",
       "    <tr>\n",
       "      <th>1</th>\n",
       "      <td>2</td>\n",
       "      <td>87</td>\n",
       "      <td>184</td>\n",
       "      <td>47.28</td>\n",
       "    </tr>\n",
       "    <tr>\n",
       "      <th>2</th>\n",
       "      <td>3</td>\n",
       "      <td>119</td>\n",
       "      <td>491</td>\n",
       "      <td>24.24</td>\n",
       "    </tr>\n",
       "  </tbody>\n",
       "</table>\n",
       "</div>"
      ],
      "text/plain": [
       "   classe  qtd_passageiros_sobreviventes  qtd_passageiros_total  \\\n",
       "0       1                            136                    216   \n",
       "1       2                             87                    184   \n",
       "2       3                            119                    491   \n",
       "\n",
       "   taxa_sobrevivencia  \n",
       "0               62.96  \n",
       "1               47.28  \n",
       "2               24.24  "
      ]
     },
     "execution_count": 7,
     "metadata": {},
     "output_type": "execute_result"
    }
   ],
   "source": [
    "import pandas as pd\n",
    "df = pd.read_csv('../data/titanic_dataset.csv')\n",
    "summary = df.groupby(by='Pclass', as_index=False).agg({\n",
    "    'Survived': 'sum',\n",
    "    'PassengerId': 'count'\n",
    "}).rename(columns={\n",
    "    'Survived': 'qtd_passageiros_sobreviventes',\n",
    "    'PassengerId': 'qtd_passageiros_total',\n",
    "    'Pclass': 'classe'\n",
    "})\n",
    "summary['taxa_sobrevivencia'] = (summary['qtd_passageiros_sobreviventes'] / summary['qtd_passageiros_total'] * 100).round(2)\n",
    "summary"
   ]
  }
 ],
 "metadata": {
  "kernelspec": {
   "display_name": "venv",
   "language": "python",
   "name": "python3"
  },
  "language_info": {
   "codemirror_mode": {
    "name": "ipython",
    "version": 3
   },
   "file_extension": ".py",
   "mimetype": "text/x-python",
   "name": "python",
   "nbconvert_exporter": "python",
   "pygments_lexer": "ipython3",
   "version": "3.10.11"
  }
 },
 "nbformat": 4,
 "nbformat_minor": 5
}
