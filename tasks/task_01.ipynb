{
 "cells": [
  {
   "cell_type": "markdown",
   "id": "d404bc33",
   "metadata": {},
   "source": [
    "Qual a proporção geral de sobreviventes no dataset?"
   ]
  },
  {
   "cell_type": "code",
   "execution_count": 23,
   "id": "aee9011c",
   "metadata": {},
   "outputs": [
    {
     "name": "stdout",
     "output_type": "stream",
     "text": [
      "A proporção de sobrevivente foi de 38.38%\n"
     ]
    }
   ],
   "source": [
    "import pandas as pd\n",
    "df = pd.read_csv('../data/titanic_dataset.csv')\n",
    "qtd_passageiros_sobreviventes = df[df['Survived'] == 1]['PassengerId'].count()\n",
    "qtd_total_passageiros = df['PassengerId'].count()\n",
    "proporcao_sobreviventes = qtd_passageiros_sobreviventes / qtd_total_passageiros * 100\n",
    "print(f'A proporção de sobrevivente foi de {proporcao_sobreviventes:.2f}%')"
   ]
  }
 ],
 "metadata": {
  "kernelspec": {
   "display_name": "venv",
   "language": "python",
   "name": "python3"
  },
  "language_info": {
   "codemirror_mode": {
    "name": "ipython",
    "version": 3
   },
   "file_extension": ".py",
   "mimetype": "text/x-python",
   "name": "python",
   "nbconvert_exporter": "python",
   "pygments_lexer": "ipython3",
   "version": "3.10.11"
  }
 },
 "nbformat": 4,
 "nbformat_minor": 5
}
