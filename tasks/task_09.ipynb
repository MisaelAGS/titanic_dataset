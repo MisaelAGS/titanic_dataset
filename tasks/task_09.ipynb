{
 "cells": [
  {
   "cell_type": "markdown",
   "id": "f7422d8a",
   "metadata": {},
   "source": [
    "Qual a média de familiares a bordo (SibSp + Parch) por passageiro?"
   ]
  },
  {
   "cell_type": "code",
   "execution_count": 6,
   "id": "780992ef",
   "metadata": {},
   "outputs": [
    {
     "name": "stdout",
     "output_type": "stream",
     "text": [
      "A média de familiares a bordo é de 0.9 por cada passageiro.\n"
     ]
    }
   ],
   "source": [
    "import pandas as pd\n",
    "df = pd.read_csv('../data/titanic_dataset.csv')\n",
    "df['qtd_familiares_a_bordo'] = df['Parch'] + df['SibSp']\n",
    "media_familiares_a_bordo = df['qtd_familiares_a_bordo'].mean().round(2)\n",
    "print(f'A média de familiares a bordo é de {media_familiares_a_bordo} por cada passageiro.')"
   ]
  }
 ],
 "metadata": {
  "kernelspec": {
   "display_name": "venv",
   "language": "python",
   "name": "python3"
  },
  "language_info": {
   "codemirror_mode": {
    "name": "ipython",
    "version": 3
   },
   "file_extension": ".py",
   "mimetype": "text/x-python",
   "name": "python",
   "nbconvert_exporter": "python",
   "pygments_lexer": "ipython3",
   "version": "3.10.11"
  }
 },
 "nbformat": 4,
 "nbformat_minor": 5
}
