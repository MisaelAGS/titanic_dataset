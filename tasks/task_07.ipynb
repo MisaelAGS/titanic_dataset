{
 "cells": [
  {
   "cell_type": "markdown",
   "id": "3ca48695",
   "metadata": {},
   "source": [
    "Qual o ticket médio pago (Fare) por classe?"
   ]
  },
  {
   "cell_type": "code",
   "execution_count": 4,
   "id": "2465c920",
   "metadata": {},
   "outputs": [
    {
     "data": {
      "text/html": [
       "<div>\n",
       "<style scoped>\n",
       "    .dataframe tbody tr th:only-of-type {\n",
       "        vertical-align: middle;\n",
       "    }\n",
       "\n",
       "    .dataframe tbody tr th {\n",
       "        vertical-align: top;\n",
       "    }\n",
       "\n",
       "    .dataframe thead th {\n",
       "        text-align: right;\n",
       "    }\n",
       "</style>\n",
       "<table border=\"1\" class=\"dataframe\">\n",
       "  <thead>\n",
       "    <tr style=\"text-align: right;\">\n",
       "      <th></th>\n",
       "      <th>classe</th>\n",
       "      <th>qtd_passageiros</th>\n",
       "      <th>total_pago</th>\n",
       "      <th>ticket_medio</th>\n",
       "    </tr>\n",
       "  </thead>\n",
       "  <tbody>\n",
       "    <tr>\n",
       "      <th>0</th>\n",
       "      <td>1</td>\n",
       "      <td>216</td>\n",
       "      <td>18177.4125</td>\n",
       "      <td>84.15</td>\n",
       "    </tr>\n",
       "    <tr>\n",
       "      <th>1</th>\n",
       "      <td>2</td>\n",
       "      <td>184</td>\n",
       "      <td>3801.8417</td>\n",
       "      <td>20.66</td>\n",
       "    </tr>\n",
       "    <tr>\n",
       "      <th>2</th>\n",
       "      <td>3</td>\n",
       "      <td>491</td>\n",
       "      <td>6714.6951</td>\n",
       "      <td>13.68</td>\n",
       "    </tr>\n",
       "  </tbody>\n",
       "</table>\n",
       "</div>"
      ],
      "text/plain": [
       "   classe  qtd_passageiros  total_pago  ticket_medio\n",
       "0       1              216  18177.4125         84.15\n",
       "1       2              184   3801.8417         20.66\n",
       "2       3              491   6714.6951         13.68"
      ]
     },
     "execution_count": 4,
     "metadata": {},
     "output_type": "execute_result"
    }
   ],
   "source": [
    "import pandas as pd\n",
    "df = pd.read_csv('../data/titanic_dataset.csv')\n",
    "summary = df.groupby(by='Pclass', as_index=False).agg({\n",
    "    'PassengerId': 'count',\n",
    "    'Fare': 'sum'\n",
    "}).rename(columns={\n",
    "    'Pclass': 'classe',\n",
    "    'PassengerId': 'qtd_passageiros',\n",
    "    'Fare': 'total_pago'\n",
    "})\n",
    "summary['ticket_medio'] = (summary['total_pago'] / summary['qtd_passageiros']).round(2)\n",
    "summary"
   ]
  }
 ],
 "metadata": {
  "kernelspec": {
   "display_name": "venv",
   "language": "python",
   "name": "python3"
  },
  "language_info": {
   "codemirror_mode": {
    "name": "ipython",
    "version": 3
   },
   "file_extension": ".py",
   "mimetype": "text/x-python",
   "name": "python",
   "nbconvert_exporter": "python",
   "pygments_lexer": "ipython3",
   "version": "3.10.11"
  }
 },
 "nbformat": 4,
 "nbformat_minor": 5
}
