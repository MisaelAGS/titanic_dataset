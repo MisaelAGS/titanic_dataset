{
 "cells": [
  {
   "cell_type": "markdown",
   "id": "f8b62b52",
   "metadata": {},
   "source": [
    "Existe alguma correlação entre idade e sobrevivência?"
   ]
  },
  {
   "cell_type": "code",
   "execution_count": 8,
   "id": "3e8e31b8",
   "metadata": {},
   "outputs": [
    {
     "name": "stdout",
     "output_type": "stream",
     "text": [
      "A correlação entre idade e sobrevivência é -0.08\n",
      "Não existe correlação relevante entre idade e sobrevivência.\n"
     ]
    }
   ],
   "source": [
    "import pandas as pd\n",
    "df = pd.read_csv('../data/titanic_dataset.csv')\n",
    "idade = df['Age']\n",
    "status_sobrevivencia = df['Survived']\n",
    "correlacao = idade.corr(status_sobrevivencia)\n",
    "print(f'A correlação entre idade e sobrevivência é {correlacao:.2f}')\n",
    "\n",
    "if abs(correlacao) >= 0.7:\n",
    "    print('Existe uma correlação forte entre idade e sobrevivência.')\n",
    "elif abs(correlacao) >= 0.5:\n",
    "    print('Existe uma correlação moderada entre idade e sobrevivência.')\n",
    "elif abs(correlacao) >= 0.3:\n",
    "    print('Existe uma correlação fraca entre idade e sobrevivência.')\n",
    "else:\n",
    "    print('Não existe correlação relevante entre idade e sobrevivência.')"
   ]
  }
 ],
 "metadata": {
  "kernelspec": {
   "display_name": "venv",
   "language": "python",
   "name": "python3"
  },
  "language_info": {
   "codemirror_mode": {
    "name": "ipython",
    "version": 3
   },
   "file_extension": ".py",
   "mimetype": "text/x-python",
   "name": "python",
   "nbconvert_exporter": "python",
   "pygments_lexer": "ipython3",
   "version": "3.10.11"
  }
 },
 "nbformat": 4,
 "nbformat_minor": 5
}
