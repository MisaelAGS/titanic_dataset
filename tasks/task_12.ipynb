{
 "cells": [
  {
   "cell_type": "markdown",
   "id": "82bce42e",
   "metadata": {},
   "source": [
    "Quantos passageiros viajaram sozinhos (sem familiares)?"
   ]
  },
  {
   "cell_type": "code",
   "execution_count": 6,
   "id": "3e94ee92",
   "metadata": {},
   "outputs": [
    {
     "name": "stdout",
     "output_type": "stream",
     "text": [
      "A quantidade de passageiros sem familiares é 537.\n"
     ]
    }
   ],
   "source": [
    "import pandas as pd\n",
    "df = pd.read_csv('../data/titanic_dataset.csv')\n",
    "qtd_passageiros_sem_familiares = df[df['SibSp'] + df['Parch'] == 0]['PassengerId'].count()\n",
    "print(f'A quantidade de passageiros sem familiares é {qtd_passageiros_sem_familiares}.')"
   ]
  }
 ],
 "metadata": {
  "kernelspec": {
   "display_name": "venv",
   "language": "python",
   "name": "python3"
  },
  "language_info": {
   "codemirror_mode": {
    "name": "ipython",
    "version": 3
   },
   "file_extension": ".py",
   "mimetype": "text/x-python",
   "name": "python",
   "nbconvert_exporter": "python",
   "pygments_lexer": "ipython3",
   "version": "3.10.11"
  }
 },
 "nbformat": 4,
 "nbformat_minor": 5
}
